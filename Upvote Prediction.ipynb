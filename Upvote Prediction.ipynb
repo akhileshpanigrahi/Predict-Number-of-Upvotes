{
 "cells": [
  {
   "cell_type": "markdown",
   "metadata": {},
   "source": [
    "# Predict Number of Upvotes"
   ]
  },
  {
   "cell_type": "markdown",
   "metadata": {},
   "source": [
    "An online question and answer platform has hired you as a data scientist to identify the best question authors on the platform. This identification will bring more insight into increasing the user engagement. Given the tag of the question, number of views received, number of answers, username and reputation of the question author, the problem requires you to predict the upvote count that the question will receive.\n",
    "\n",
    "Data Dictionary\n",
    "\n",
    " \n",
    "\n",
    "Variable -\tDefinition\n",
    "ID -\tQuestion ID\n",
    "Tag -\tAnonymised tags representing question category\n",
    "Reputation -\tReputation score of question author\n",
    "Answers -\tNumber of times question has been answered\n",
    "Username -\tAnonymised user id of question author\n",
    "Views -\tNumber of times question has been viewed\n",
    "Upvotes -\t(Target) Number of upvotes for the question\n",
    " \n",
    "\n",
    "Evaluation Metric\n",
    "\n",
    "The evaluation metric for this competition is RMSE (root mean squared error)"
   ]
  },
  {
   "cell_type": "code",
   "execution_count": 667,
   "metadata": {},
   "outputs": [],
   "source": [
    "import pandas as pd\n",
    "import numpy as np\n",
    "from sklearn.preprocessing import OneHotEncoder\n",
    "from sklearn.model_selection import train_test_split\n",
    "from sklearn.linear_model import LinearRegression\n",
    "from sklearn.preprocessing import MinMaxScaler\n",
    "from matplotlib import pyplot as plt"
   ]
  },
  {
   "cell_type": "code",
   "execution_count": 668,
   "metadata": {},
   "outputs": [],
   "source": [
    "training_data = pd.read_csv('train_NIR5Yl1.csv')\n",
    "testing_data = pd.read_csv('test_8i3B3FC.csv')"
   ]
  },
  {
   "cell_type": "code",
   "execution_count": 669,
   "metadata": {},
   "outputs": [
    {
     "name": "stdout",
     "output_type": "stream",
     "text": [
      "       ID Tag  Reputation  Answers  Username    Views  Upvotes\n",
      "0   52664   a      3942.0      2.0    155623   7855.0     42.0\n",
      "1  327662   a     26046.0     12.0     21781  55801.0   1175.0\n",
      "2  468453   c      1358.0      4.0     56177   8067.0     60.0\n",
      "3   96996   a       264.0      3.0    168793  27064.0      9.0\n",
      "4  131465   c      4271.0      4.0    112223  13986.0     83.0\n"
     ]
    }
   ],
   "source": [
    "print(training_data.head())"
   ]
  },
  {
   "cell_type": "code",
   "execution_count": 670,
   "metadata": {},
   "outputs": [
    {
     "name": "stdout",
     "output_type": "stream",
     "text": [
      "(330045, 7)\n"
     ]
    }
   ],
   "source": [
    "print(training_data.shape)"
   ]
  },
  {
   "cell_type": "code",
   "execution_count": 671,
   "metadata": {},
   "outputs": [
    {
     "name": "stdout",
     "output_type": "stream",
     "text": [
      "330045\n"
     ]
    }
   ],
   "source": [
    "print(training_data['ID'].nunique())"
   ]
  },
  {
   "cell_type": "code",
   "execution_count": 672,
   "metadata": {},
   "outputs": [
    {
     "name": "stdout",
     "output_type": "stream",
     "text": [
      "['a' 'c' 'r' 'j' 'p' 's' 'h' 'o' 'i' 'x']\n"
     ]
    }
   ],
   "source": [
    "print(training_data['Tag'].unique())"
   ]
  },
  {
   "cell_type": "code",
   "execution_count": 673,
   "metadata": {},
   "outputs": [],
   "source": [
    "##using feature 'Upvotes' as label\n",
    "\n",
    "labels = training_data[['Upvotes']]\n",
    "\n",
    "##Removing feature 'Upvotes', 'ID' and 'Username' from training data\n",
    "training_data = training_data.drop(['Upvotes', 'ID', 'Username'], axis=1)\n",
    "\n",
    "##Removing feature 'ID' and 'Username' from testing data\n",
    "testing_data = testing_data.drop(['ID', 'Username'], axis=1)"
   ]
  },
  {
   "cell_type": "code",
   "execution_count": 674,
   "metadata": {},
   "outputs": [],
   "source": [
    "##Using One Hot Encoder for 'Tag' feature\n",
    "\n",
    "oh_encoder = OneHotEncoder(handle_unknown = 'ignore', sparse = False)\n",
    "\n",
    "ohe_train = pd.DataFrame(oh_encoder.fit_transform(training_data['Tag'].to_numpy().reshape(-1,1) ))\n",
    "ohe_test = pd.DataFrame(oh_encoder.transform(testing_data['Tag'].to_numpy().reshape(-1,1)))\n",
    "##adding index to encoded data\n",
    "\n",
    "ohe_train.index = training_data.index\n",
    "ohe_test.index = testing_data.index\n",
    "##Dropping 'Tag' feature from original table\n",
    "\n",
    "new_training_data = training_data.drop('Tag', axis=1)\n",
    "new_testing_data = testing_data.drop('Tag', axis=1)\n",
    "##Concating dataframes\n",
    "\n",
    "training_data = pd.concat([new_training_data, ohe_train], axis = 1)\n",
    "testing_data = pd.concat([new_testing_data, ohe_test], axis=1)"
   ]
  },
  {
   "cell_type": "code",
   "execution_count": 675,
   "metadata": {
    "scrolled": true
   },
   "outputs": [
    {
     "name": "stdout",
     "output_type": "stream",
     "text": [
      "   Reputation  Answers    Views    0    1    2    3    4    5    6    7    8  \\\n",
      "0      3942.0      2.0   7855.0  1.0  0.0  0.0  0.0  0.0  0.0  0.0  0.0  0.0   \n",
      "1     26046.0     12.0  55801.0  1.0  0.0  0.0  0.0  0.0  0.0  0.0  0.0  0.0   \n",
      "2      1358.0      4.0   8067.0  0.0  1.0  0.0  0.0  0.0  0.0  0.0  0.0  0.0   \n",
      "3       264.0      3.0  27064.0  1.0  0.0  0.0  0.0  0.0  0.0  0.0  0.0  0.0   \n",
      "4      4271.0      4.0  13986.0  0.0  1.0  0.0  0.0  0.0  0.0  0.0  0.0  0.0   \n",
      "\n",
      "     9  \n",
      "0  0.0  \n",
      "1  0.0  \n",
      "2  0.0  \n",
      "3  0.0  \n",
      "4  0.0  \n"
     ]
    }
   ],
   "source": [
    "print(training_data.head())"
   ]
  },
  {
   "cell_type": "code",
   "execution_count": 676,
   "metadata": {},
   "outputs": [
    {
     "name": "stdout",
     "output_type": "stream",
     "text": [
      "   Reputation  Answers    Views    0    1    2    3    4    5    6    7    8  \\\n",
      "0      5645.0      3.0  33200.0  1.0  0.0  0.0  0.0  0.0  0.0  0.0  0.0  0.0   \n",
      "1     24511.0      6.0   2730.0  0.0  1.0  0.0  0.0  0.0  0.0  0.0  0.0  0.0   \n",
      "2       927.0      1.0  21167.0  0.0  0.0  0.0  1.0  0.0  0.0  0.0  0.0  0.0   \n",
      "3        21.0      6.0  18528.0  0.0  0.0  0.0  1.0  0.0  0.0  0.0  0.0  0.0   \n",
      "4      4475.0     10.0  57240.0  0.0  0.0  0.0  1.0  0.0  0.0  0.0  0.0  0.0   \n",
      "\n",
      "     9  \n",
      "0  0.0  \n",
      "1  0.0  \n",
      "2  0.0  \n",
      "3  0.0  \n",
      "4  0.0  \n"
     ]
    }
   ],
   "source": [
    "print(testing_data.head())"
   ]
  },
  {
   "cell_type": "code",
   "execution_count": 677,
   "metadata": {},
   "outputs": [],
   "source": [
    "##normalization of features\n",
    "norm_train_data = training_data[['Reputation', 'Answers', 'Views']]\n",
    "norm_test_data = testing_data[['Reputation', 'Answers', 'Views']]\n",
    "col_names = norm_data.columns\n",
    "scaler = MinMaxScaler()\n",
    "norm_train_data = scaler.fit_transform(norm_train_data)\n",
    "norm_test_data = scaler.transform(norm_test_data)\n",
    "\n",
    "norm_train_data = pd.DataFrame(norm_train_data, columns=col_names)\n",
    "norm_test_data = pd.DataFrame(norm_test_data, columns=col_names)\n",
    "\n",
    "training_data = training_data.drop(col_names, axis=1)\n",
    "training_data = pd.concat([training_data, norm_train_data], axis=1)\n",
    "\n",
    "testing_data = testing_data.drop(col_names, axis=1)\n",
    "testing_data = pd.concat([testing_data, norm_test_data], axis=1)"
   ]
  },
  {
   "cell_type": "code",
   "execution_count": 678,
   "metadata": {},
   "outputs": [
    {
     "name": "stdout",
     "output_type": "stream",
     "text": [
      "Index([0, 1, 2, 3, 4, 5, 6, 7, 8, 9, 'Reputation', 'Answers', 'Views'], dtype='object')\n"
     ]
    }
   ],
   "source": [
    "print (training_data.columns)"
   ]
  },
  {
   "cell_type": "code",
   "execution_count": 679,
   "metadata": {},
   "outputs": [
    {
     "name": "stdout",
     "output_type": "stream",
     "text": [
      "     0    1    2    3    4    5    6    7    8    9  Reputation   Answers  \\\n",
      "0  1.0  0.0  0.0  0.0  0.0  0.0  0.0  0.0  0.0  0.0    0.003782  0.026316   \n",
      "1  1.0  0.0  0.0  0.0  0.0  0.0  0.0  0.0  0.0  0.0    0.024986  0.157895   \n",
      "2  0.0  1.0  0.0  0.0  0.0  0.0  0.0  0.0  0.0  0.0    0.001303  0.052632   \n",
      "3  1.0  0.0  0.0  0.0  0.0  0.0  0.0  0.0  0.0  0.0    0.000253  0.039474   \n",
      "4  0.0  1.0  0.0  0.0  0.0  0.0  0.0  0.0  0.0  0.0    0.004097  0.052632   \n",
      "\n",
      "      Views  \n",
      "0  0.001500  \n",
      "1  0.010666  \n",
      "2  0.001540  \n",
      "3  0.005172  \n",
      "4  0.002672  \n"
     ]
    }
   ],
   "source": [
    "print(training_data.head())"
   ]
  },
  {
   "cell_type": "code",
   "execution_count": 680,
   "metadata": {},
   "outputs": [
    {
     "data": {
      "text/html": [
       "<div>\n",
       "<style scoped>\n",
       "    .dataframe tbody tr th:only-of-type {\n",
       "        vertical-align: middle;\n",
       "    }\n",
       "\n",
       "    .dataframe tbody tr th {\n",
       "        vertical-align: top;\n",
       "    }\n",
       "\n",
       "    .dataframe thead th {\n",
       "        text-align: right;\n",
       "    }\n",
       "</style>\n",
       "<table border=\"1\" class=\"dataframe\">\n",
       "  <thead>\n",
       "    <tr style=\"text-align: right;\">\n",
       "      <th></th>\n",
       "      <th>0</th>\n",
       "      <th>1</th>\n",
       "      <th>2</th>\n",
       "      <th>3</th>\n",
       "      <th>4</th>\n",
       "      <th>5</th>\n",
       "      <th>6</th>\n",
       "      <th>7</th>\n",
       "      <th>8</th>\n",
       "      <th>9</th>\n",
       "    </tr>\n",
       "  </thead>\n",
       "  <tbody>\n",
       "    <tr>\n",
       "      <th>0</th>\n",
       "      <td>1.0</td>\n",
       "      <td>0.0</td>\n",
       "      <td>0.0</td>\n",
       "      <td>0.0</td>\n",
       "      <td>0.0</td>\n",
       "      <td>0.0</td>\n",
       "      <td>0.0</td>\n",
       "      <td>0.0</td>\n",
       "      <td>0.0</td>\n",
       "      <td>0.0</td>\n",
       "    </tr>\n",
       "    <tr>\n",
       "      <th>1</th>\n",
       "      <td>1.0</td>\n",
       "      <td>0.0</td>\n",
       "      <td>0.0</td>\n",
       "      <td>0.0</td>\n",
       "      <td>0.0</td>\n",
       "      <td>0.0</td>\n",
       "      <td>0.0</td>\n",
       "      <td>0.0</td>\n",
       "      <td>0.0</td>\n",
       "      <td>0.0</td>\n",
       "    </tr>\n",
       "    <tr>\n",
       "      <th>2</th>\n",
       "      <td>0.0</td>\n",
       "      <td>1.0</td>\n",
       "      <td>0.0</td>\n",
       "      <td>0.0</td>\n",
       "      <td>0.0</td>\n",
       "      <td>0.0</td>\n",
       "      <td>0.0</td>\n",
       "      <td>0.0</td>\n",
       "      <td>0.0</td>\n",
       "      <td>0.0</td>\n",
       "    </tr>\n",
       "    <tr>\n",
       "      <th>3</th>\n",
       "      <td>1.0</td>\n",
       "      <td>0.0</td>\n",
       "      <td>0.0</td>\n",
       "      <td>0.0</td>\n",
       "      <td>0.0</td>\n",
       "      <td>0.0</td>\n",
       "      <td>0.0</td>\n",
       "      <td>0.0</td>\n",
       "      <td>0.0</td>\n",
       "      <td>0.0</td>\n",
       "    </tr>\n",
       "    <tr>\n",
       "      <th>4</th>\n",
       "      <td>0.0</td>\n",
       "      <td>1.0</td>\n",
       "      <td>0.0</td>\n",
       "      <td>0.0</td>\n",
       "      <td>0.0</td>\n",
       "      <td>0.0</td>\n",
       "      <td>0.0</td>\n",
       "      <td>0.0</td>\n",
       "      <td>0.0</td>\n",
       "      <td>0.0</td>\n",
       "    </tr>\n",
       "    <tr>\n",
       "      <th>...</th>\n",
       "      <td>...</td>\n",
       "      <td>...</td>\n",
       "      <td>...</td>\n",
       "      <td>...</td>\n",
       "      <td>...</td>\n",
       "      <td>...</td>\n",
       "      <td>...</td>\n",
       "      <td>...</td>\n",
       "      <td>...</td>\n",
       "      <td>...</td>\n",
       "    </tr>\n",
       "    <tr>\n",
       "      <th>330040</th>\n",
       "      <td>0.0</td>\n",
       "      <td>1.0</td>\n",
       "      <td>0.0</td>\n",
       "      <td>0.0</td>\n",
       "      <td>0.0</td>\n",
       "      <td>0.0</td>\n",
       "      <td>0.0</td>\n",
       "      <td>0.0</td>\n",
       "      <td>0.0</td>\n",
       "      <td>0.0</td>\n",
       "    </tr>\n",
       "    <tr>\n",
       "      <th>330041</th>\n",
       "      <td>0.0</td>\n",
       "      <td>1.0</td>\n",
       "      <td>0.0</td>\n",
       "      <td>0.0</td>\n",
       "      <td>0.0</td>\n",
       "      <td>0.0</td>\n",
       "      <td>0.0</td>\n",
       "      <td>0.0</td>\n",
       "      <td>0.0</td>\n",
       "      <td>0.0</td>\n",
       "    </tr>\n",
       "    <tr>\n",
       "      <th>330042</th>\n",
       "      <td>0.0</td>\n",
       "      <td>1.0</td>\n",
       "      <td>0.0</td>\n",
       "      <td>0.0</td>\n",
       "      <td>0.0</td>\n",
       "      <td>0.0</td>\n",
       "      <td>0.0</td>\n",
       "      <td>0.0</td>\n",
       "      <td>0.0</td>\n",
       "      <td>0.0</td>\n",
       "    </tr>\n",
       "    <tr>\n",
       "      <th>330043</th>\n",
       "      <td>0.0</td>\n",
       "      <td>0.0</td>\n",
       "      <td>0.0</td>\n",
       "      <td>0.0</td>\n",
       "      <td>1.0</td>\n",
       "      <td>0.0</td>\n",
       "      <td>0.0</td>\n",
       "      <td>0.0</td>\n",
       "      <td>0.0</td>\n",
       "      <td>0.0</td>\n",
       "    </tr>\n",
       "    <tr>\n",
       "      <th>330044</th>\n",
       "      <td>0.0</td>\n",
       "      <td>0.0</td>\n",
       "      <td>0.0</td>\n",
       "      <td>0.0</td>\n",
       "      <td>1.0</td>\n",
       "      <td>0.0</td>\n",
       "      <td>0.0</td>\n",
       "      <td>0.0</td>\n",
       "      <td>0.0</td>\n",
       "      <td>0.0</td>\n",
       "    </tr>\n",
       "  </tbody>\n",
       "</table>\n",
       "<p>330045 rows × 10 columns</p>\n",
       "</div>"
      ],
      "text/plain": [
       "          0    1    2    3    4    5    6    7    8    9\n",
       "0       1.0  0.0  0.0  0.0  0.0  0.0  0.0  0.0  0.0  0.0\n",
       "1       1.0  0.0  0.0  0.0  0.0  0.0  0.0  0.0  0.0  0.0\n",
       "2       0.0  1.0  0.0  0.0  0.0  0.0  0.0  0.0  0.0  0.0\n",
       "3       1.0  0.0  0.0  0.0  0.0  0.0  0.0  0.0  0.0  0.0\n",
       "4       0.0  1.0  0.0  0.0  0.0  0.0  0.0  0.0  0.0  0.0\n",
       "...     ...  ...  ...  ...  ...  ...  ...  ...  ...  ...\n",
       "330040  0.0  1.0  0.0  0.0  0.0  0.0  0.0  0.0  0.0  0.0\n",
       "330041  0.0  1.0  0.0  0.0  0.0  0.0  0.0  0.0  0.0  0.0\n",
       "330042  0.0  1.0  0.0  0.0  0.0  0.0  0.0  0.0  0.0  0.0\n",
       "330043  0.0  0.0  0.0  0.0  1.0  0.0  0.0  0.0  0.0  0.0\n",
       "330044  0.0  0.0  0.0  0.0  1.0  0.0  0.0  0.0  0.0  0.0\n",
       "\n",
       "[330045 rows x 10 columns]"
      ]
     },
     "execution_count": 680,
     "metadata": {},
     "output_type": "execute_result"
    }
   ],
   "source": [
    "training_data.drop(col_names, axis=1)"
   ]
  },
  {
   "cell_type": "code",
   "execution_count": 681,
   "metadata": {},
   "outputs": [],
   "source": [
    "## using linear regression algorithm to train\n",
    "\n",
    "lr = LinearRegression()\n",
    "lr.fit(training_data,labels)\n",
    "test_prediction = np.rint(lr.predict(testing_data)).flatten()\n"
   ]
  },
  {
   "cell_type": "code",
   "execution_count": 682,
   "metadata": {},
   "outputs": [
    {
     "name": "stdout",
     "output_type": "stream",
     "text": [
      "[ 376.  248.  177. ...  588. -124. -161.]\n"
     ]
    }
   ],
   "source": [
    "print (test_prediction)"
   ]
  },
  {
   "cell_type": "code",
   "execution_count": 683,
   "metadata": {},
   "outputs": [],
   "source": [
    "testing_data = pd.read_csv('test_8i3B3FC.csv')\n",
    "testing_data = testing_data.loc[:, 'ID'].values\n",
    "\n",
    "test_report_array = np.array(list(zip(testing_data, test_prediction)))\n",
    "#testing_data['Upvotes'] = test_prediction.tolist()"
   ]
  },
  {
   "cell_type": "code",
   "execution_count": 684,
   "metadata": {},
   "outputs": [
    {
     "name": "stdout",
     "output_type": "stream",
     "text": [
      "[366953  71864 141692 ... 282334 386629 107271]\n"
     ]
    }
   ],
   "source": [
    "print(testing_data)"
   ]
  },
  {
   "cell_type": "code",
   "execution_count": 685,
   "metadata": {},
   "outputs": [
    {
     "name": "stdout",
     "output_type": "stream",
     "text": [
      "[[ 3.66953e+05  3.76000e+02]\n",
      " [ 7.18640e+04  2.48000e+02]\n",
      " [ 1.41692e+05  1.77000e+02]\n",
      " ...\n",
      " [ 2.82334e+05  5.88000e+02]\n",
      " [ 3.86629e+05 -1.24000e+02]\n",
      " [ 1.07271e+05 -1.61000e+02]]\n"
     ]
    }
   ],
   "source": [
    "print(test_report_array)"
   ]
  },
  {
   "cell_type": "code",
   "execution_count": 686,
   "metadata": {},
   "outputs": [
    {
     "name": "stdout",
     "output_type": "stream",
     "text": [
      "         ID  Upvotes\n",
      "0  366953.0    376.0\n",
      "1   71864.0    248.0\n",
      "2  141692.0    177.0\n",
      "3  316833.0    -89.0\n",
      "4  440445.0    684.0\n"
     ]
    }
   ],
   "source": [
    "test_report = pd.DataFrame(data=test_report_array, columns = ['ID', 'Upvotes'])\n",
    "print(test_report.head())\n",
    "test_report.to_csv('test_report1', index=False)"
   ]
  }
 ],
 "metadata": {
  "kernelspec": {
   "display_name": "Python 3",
   "language": "python",
   "name": "python3"
  },
  "language_info": {
   "codemirror_mode": {
    "name": "ipython",
    "version": 3
   },
   "file_extension": ".py",
   "mimetype": "text/x-python",
   "name": "python",
   "nbconvert_exporter": "python",
   "pygments_lexer": "ipython3",
   "version": "3.8.3"
  }
 },
 "nbformat": 4,
 "nbformat_minor": 4
}
